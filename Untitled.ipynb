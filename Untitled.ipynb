{
 "cells": [
  {
   "cell_type": "code",
   "execution_count": 1,
   "metadata": {},
   "outputs": [],
   "source": [
    "import datetime as dt\n",
    "import pandas as pd\n",
    "import pandas_datareader.data as web\n",
    "import csv\n",
    "import matplotlib.pyplot as plt\n",
    "%matplotlib inline\n",
    "#style.use('ggplot')"
   ]
  },
  {
   "cell_type": "code",
   "execution_count": 4,
   "metadata": {},
   "outputs": [],
   "source": [
    "start = dt.datetime(2015, 12, 6)\n",
    "end = dt.datetime(2017, 12, 6)\n",
    "stock = \"SIE.DE\"\n",
    "df = web.DataReader(stock, \"yahoo\", start, end)\n",
    "\n",
    "#print(df.tail())\n",
    "#print(df['Adj Close'].head())\n",
    "#print(df2 = df.iloc[:,5])\n",
    "#df2 = df['Adj Close']\n",
    "#print(df2.head())\n",
    "#print(df2[0])\n",
    "text = df['Adj Close'].values.tolist()\n",
    "\n",
    "with open(\"csvtest.csv\", \"wb\") as file:\n",
    "    for l in text:\n",
    "        file.write(str(l))\n",
    "        file.write('\\n')"
   ]
  },
  {
   "cell_type": "code",
   "execution_count": null,
   "metadata": {},
   "outputs": [],
   "source": [
    "df.to_csv(stock + \".csv\")\n",
    "df['Adj Close'].to_csv(stock+\"_close\"+\".csv\", columns = 'Adj Close')\n",
    "df = pd.read_csv(stock + \".csv\", parse_dates = True, index_col = 0)"
   ]
  },
  {
   "cell_type": "code",
   "execution_count": null,
   "metadata": {},
   "outputs": [],
   "source": [
    "df[\"20day\"] = df[\"Adj Close\"].rolling(window=20, min_periods = 0).mean()\n",
    "\n",
    "ax1 = plt.subplot2grid((6,1), (0,0), rowspan = 5, colspan = 1)\n",
    "ax2 = plt.subplot2grid((6,1), (5,0), rowspan = 1, colspan = 1, sharex = ax1)\n",
    "ax1.plot(df.index, df['Adj Close'])\n",
    "ax1.plot(df.index, df['20day'])\n",
    "ax2.plot(df.index, df['Volume'])\n",
    "plt.show()"
   ]
  },
  {
   "cell_type": "code",
   "execution_count": null,
   "metadata": {},
   "outputs": [],
   "source": []
  }
 ],
 "metadata": {
  "kernelspec": {
   "display_name": "Python 2",
   "language": "python",
   "name": "python2"
  },
  "language_info": {
   "codemirror_mode": {
    "name": "ipython",
    "version": 2
   },
   "file_extension": ".py",
   "mimetype": "text/x-python",
   "name": "python",
   "nbconvert_exporter": "python",
   "pygments_lexer": "ipython2",
   "version": "2.7.12"
  }
 },
 "nbformat": 4,
 "nbformat_minor": 2
}
